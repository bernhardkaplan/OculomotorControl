{
 "metadata": {
  "name": ""
 },
 "nbformat": 3,
 "nbformat_minor": 0,
 "worksheets": [
  {
   "cells": [
    {
     "cell_type": "code",
     "collapsed": false,
     "input": [
      "import simulation_parameters\n",
      "import utils\n",
      "import numpy as np"
     ],
     "language": "python",
     "metadata": {},
     "outputs": [],
     "prompt_number": 62
    },
    {
     "cell_type": "code",
     "collapsed": false,
     "input": [
      "folder_name = 'Test_25_gaussRew__270-282_wampD10.5_wampD20.5_d1d1exc0.0_d1d1inh-10.0seeds_111_2'\n",
      "params = utils.load_params(folder_name)\n",
      "tuning_prop = np.loadtxt(params['tuning_prop_exc_fn'])"
     ],
     "language": "python",
     "metadata": {},
     "outputs": [
      {
       "output_type": "stream",
       "stream": "stdout",
       "text": [
        "debug param_fn /home/bernhard/workspace/OculomotorControl/Test_25_gaussRew__270-282_wampD10.5_wampD20.5_d1d1exc0.0_d1d1inh-10.0seeds_111_2/Parameters/simulation_parameters.json\n"
       ]
      }
     ],
     "prompt_number": 63
    },
    {
     "cell_type": "code",
     "collapsed": false,
     "input": [
      "d = np.loadtxt(params['spiketimes_folder'] + params['mpn_exc_spikes_fn_merged'])"
     ],
     "language": "python",
     "metadata": {},
     "outputs": [],
     "prompt_number": 64
    },
    {
     "cell_type": "code",
     "collapsed": false,
     "input": [],
     "language": "python",
     "metadata": {},
     "outputs": [],
     "prompt_number": 66
    },
    {
     "cell_type": "code",
     "collapsed": false,
     "input": [
      "actions_taken = np.loadtxt(params['actions_taken_fn'])\n",
      "stim_params = np.loadtxt(params['testing_stimuli_fn'])\n",
      "trajectory = np.zeros(params['n_iterations'] + 1)\n",
      "cnt_ = 0\n",
      "\n",
      "for i_stim in xrange(len(params['test_stim_range'])):\n",
      "    trajectory[cnt_] = stim_params[i_stim, 0]\n",
      "    print 'stim_params:', stim_params[i_stim, 0]\n",
      "    for it_ in xrange(params['n_iterations_per_stim']):\n",
      "        trajectory[cnt_ + 1] = trajectory[cnt_] + (stim_params[i_stim, 2] - actions_taken[cnt_ + 1, 0]) * params['t_iteration'] / 1000.\n",
      "        cnt_ += 1\n",
      "    \n",
      "fig = pylab.figure()\n",
      "ax = fig.add_subplot(111)\n",
      "for i_stim in xrange(len(params['test_stim_range'])):\n",
      "    i0 = i_stim * params['n_iterations_per_stim']\n",
      "    i1 = (i_stim + 1) * params['n_iterations_per_stim']\n",
      "    ax.plot(range(i0, i1), trajectory[i0:i1])\n",
      "    #ax.plot(range(trajectory.size), trajectory)\n"
     ],
     "language": "python",
     "metadata": {},
     "outputs": [
      {
       "output_type": "stream",
       "stream": "stdout",
       "text": [
        "stim_params: 0.443546855607\n",
        "stim_params: 0.397554656369\n",
        "stim_params: 0.160943716641\n",
        "stim_params: 0.628845246297\n",
        "stim_params: 0.715251068089\n"
       ]
      },
      {
       "metadata": {},
       "output_type": "display_data",
       "png": "[encoded data removed]",
       "text": [
        "<matplotlib.figure.Figure at 0x7fda5ec71050>"
       ]
      }
     ],
     "prompt_number": 77
    },
    {
     "cell_type": "code",
     "collapsed": false,
     "input": [
      "it_ = 5\n",
      "t0, t1 = it_ * params['t_iteration'], (it_ + 1) * params['t_iteration']\n",
      "n_time = 1\n",
      "tp_idx = 0\n",
      "frac = .25\n",
      "n_bins = np.int(np.round(frac * params['n_exc_mpn']))\n",
      "vad = utils.vector_average_spike_data(d, tuning_prop, n_bins, t_range=(t0, t1), n_time=n_time, tp_idx=tp_idx)"
     ],
     "language": "python",
     "metadata": {},
     "outputs": [],
     "prompt_number": 59
    },
    {
     "cell_type": "code",
     "collapsed": false,
     "input": [
      "vad = vad[0]"
     ],
     "language": "python",
     "metadata": {},
     "outputs": [],
     "prompt_number": 60
    },
    {
     "cell_type": "code",
     "collapsed": false,
     "input": [
      "fig = pylab.figure()\n",
      "ax = fig.add_subplot(111)\n",
      "ax.bar(range(vad.size), vad, width=1.)"
     ],
     "language": "python",
     "metadata": {},
     "outputs": [
      {
       "metadata": {},
       "output_type": "pyout",
       "prompt_number": 61,
       "text": [
        "<Container object of 625 artists>"
       ]
      },
      {
       "metadata": {},
       "output_type": "display_data",
       "png": "[encoded data removed]",
       "text": [
        "<matplotlib.figure.Figure at 0x7fda5fd7f9d0>"
       ]
      }
     ],
     "prompt_number": 61
    },
    {
     "cell_type": "code",
     "collapsed": false,
     "input": [],
     "language": "python",
     "metadata": {},
     "outputs": []
    }
   ],
   "metadata": {}
  }
 ]
}