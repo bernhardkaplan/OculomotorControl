{
 "metadata": {
  "name": ""
 },
 "nbformat": 3,
 "nbformat_minor": 0,
 "worksheets": [
  {
   "cells": [
    {
     "cell_type": "code",
     "collapsed": false,
     "input": [
      "import utils\n",
      "import numpy as np"
     ],
     "language": "python",
     "metadata": {},
     "outputs": [],
     "prompt_number": 2
    },
    {
     "cell_type": "code",
     "collapsed": false,
     "input": [
      "folder = 'Test_25_ShowNovelTestStim_nactions17_VA_TrainingGain0.8_0.8_K2-2_temp0.5__0-99_wampD10.4_wampD20.4_d1d1exc0.0_d1d1inh-10.0seeds_111_2/'\n",
      "params = utils.load_params(folder)"
     ],
     "language": "python",
     "metadata": {},
     "outputs": [],
     "prompt_number": 3
    },
    {
     "cell_type": "code",
     "collapsed": false,
     "input": [
      "tp = np.loadtxt(params['tuning_prop_exc_fn'])\n",
      "rfs = np.loadtxt(params['receptive_fields_exc_fn'])"
     ],
     "language": "python",
     "metadata": {},
     "outputs": [],
     "prompt_number": 4
    },
    {
     "cell_type": "code",
     "collapsed": false,
     "input": [
      "idx_set_0 = np.where(tp[:, 0] <= 0.6)[0]\n",
      "idx_set_1 = np.where(tp[:, 0] >= 0.4)[0]\n",
      "idx = set(idx_set_0).intersection(set(idx_set_1))\n",
      "gids = np.array(list(idx))"
     ],
     "language": "python",
     "metadata": {},
     "outputs": [],
     "prompt_number": 5
    },
    {
     "cell_type": "code",
     "collapsed": false,
     "input": [
      "print tp[gids, 0].min(), tp[gids, 0].max()\n",
      "print rfs[gids, 0].mean(), rfs[gids, 0].std()"
     ],
     "language": "python",
     "metadata": {},
     "outputs": [
      {
       "output_type": "stream",
       "stream": "stdout",
       "text": [
        "0.400363225503 0.599739549257\n",
        "0.00864248198966 0.00221586924021\n"
       ]
      }
     ],
     "prompt_number": 6
    },
    {
     "cell_type": "code",
     "collapsed": false,
     "input": [
      "print 'tuning properties for position'\n",
      "print tp[:, 0].max(), tp[:, 0].mean(), '+-', tp[:, 0].std(), tp[:, 0].min()\n",
      "print 'receptive field sizes for position'\n",
      "print rfs[:, 0].max(), rfs[:, 0].mean(), '+-', rfs[:, 0].std(), rfs[:, 0].min()"
     ],
     "language": "python",
     "metadata": {},
     "outputs": [
      {
       "output_type": "stream",
       "stream": "stdout",
       "text": [
        "tuning properties for position\n",
        "0.999483972097 0.499073267949 +- 0.196434272031 0.00113610600618\n",
        "receptive field sizes for position\n",
        "0.053011306791 0.01816 +- 0.0136169675106 0.008\n"
       ]
      }
     ],
     "prompt_number": 9
    },
    {
     "cell_type": "code",
     "collapsed": false,
     "input": [
      "print 'receptive field sizes for speed'\n",
      "print rfs[:, 2].max(), rfs[:, 2].mean(), '+-', rfs[:, 2].std(), rfs[:, 2].min()"
     ],
     "language": "python",
     "metadata": {},
     "outputs": [
      {
       "output_type": "stream",
       "stream": "stdout",
       "text": [
        "receptive fields for speed\n",
        "0.282635060076 0.0652991351098 +- 0.0818188870061 0.00232169541611\n"
       ]
      }
     ],
     "prompt_number": 8
    },
    {
     "cell_type": "code",
     "collapsed": false,
     "input": [],
     "language": "python",
     "metadata": {},
     "outputs": []
    }
   ],
   "metadata": {}
  }
 ]
}