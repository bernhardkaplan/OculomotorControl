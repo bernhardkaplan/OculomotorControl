{
 "metadata": {
  "name": ""
 },
 "nbformat": 3,
 "nbformat_minor": 0,
 "worksheets": [
  {
   "cells": [
    {
     "cell_type": "code",
     "collapsed": false,
     "input": [
      "import simulation_parameters\n",
      "import utils\n",
      "import numpy as np\n",
      "import VisualInput\n",
      "from copy import deepcopy"
     ],
     "language": "python",
     "metadata": {},
     "outputs": [],
     "prompt_number": 1
    },
    {
     "cell_type": "code",
     "collapsed": false,
     "input": [
      "GP = simulation_parameters.global_parameters()\n",
      "folder_name = 'DEBUG/'\n",
      "GP.set_filenames(folder_name=folder_name)\n",
      "params = GP.params\n",
      "GP.create_folders()\n",
      "GP.write_parameters_to_file()\n",
      "#GP.write_parameters_to_file(params['params_fn_json']"
     ],
     "language": "python",
     "metadata": {},
     "outputs": [
      {
       "output_type": "stream",
       "stream": "stdout",
       "text": [
        "ParameterContainer.DEBUG Writing to the default params_fn_json: DEBUG/Parameters/simulation_parameters.json\n",
        "\n",
        "DEBUG params_to_write is None\n",
        "ParameterContainer.DEBUG params_to_write folder: DEBUG/\n",
        "Writing parameters to: DEBUG/Parameters/simulation_parameters.json\n"
       ]
      }
     ],
     "prompt_number": 2
    },
    {
     "cell_type": "code",
     "collapsed": false,
     "input": [
      "params['f_max_stim'] = 2000.\n",
      "params['blur_X'] = 0.1\n",
      "params['blur_V'] = 0.3\n",
      "VI_old = VisualInput.VisualInput(params)\n",
      "stim_params = [0.25, 0.5, 0.5, 0.]\n",
      "VI_old.current_motion_params = deepcopy(stim_params)\n",
      "stim_old, ss_old = VI_old.compute_input(range(params['n_exc_mpn']), [0., 0.], use_additive_beta=False)\n",
      "rfs_old = VI_old.rf_sizes\n",
      "\n",
      "params['blur_X'] = 0.00\n",
      "params['blur_V'] = 0.0\n",
      "params['f_max_stim'] = 2000. #* (1. - params['blur_X'] - params['blur_V'])\n",
      "params['rf_size_x_multiplicator'] = 0.1\n",
      "params['rf_size_v_multiplicator'] = 0.3\n",
      "VI_new = VisualInput.VisualInput(params)\n",
      "stim_params = [0.25, 0.5, 0.5, 0.]\n",
      "VI_new.current_motion_params = deepcopy(stim_params)\n",
      "stim_new, ss_new = VI_new.compute_input(range(params['n_exc_mpn']), [0., 0.], use_additive_beta=True)\n",
      "rfs_new = VI_new.rf_sizes"
     ],
     "language": "python",
     "metadata": {},
     "outputs": [
      {
       "output_type": "stream",
       "stream": "stdout",
       "text": [
        "Setting seed to: 2\n",
        "Saving tuning properties exc to: DEBUG/Parameters/tuning_prop_exc.txt\n",
        "DEBUG VI compute_input action iteration 0 current_motion_params"
       ]
      },
      {
       "output_type": "stream",
       "stream": "stdout",
       "text": [
        " [0.25, 0.5, 0.5, 0.0]  action: [0.0, 0.0]\n",
        "DEBUG VI update_stimulus_trajectory_static end [0.26245000000000002, 0.5, 0.5, 0.0]\n",
        "Setting seed to:"
       ]
      },
      {
       "output_type": "stream",
       "stream": "stdout",
       "text": [
        " 2\n",
        "Saving tuning properties exc to: DEBUG/Parameters/tuning_prop_exc.txt\n",
        "DEBUG VI compute_input action iteration 0 current_motion_params [0.25, 0.5, 0.5, 0.0]  action: [0.0, 0.0]\n",
        "DEBUG VI update_stimulus_trajectory_static end [0.26245000000000002, 0.5, 0.5, 0.0]\n"
       ]
      }
     ],
     "prompt_number": 7
    },
    {
     "cell_type": "code",
     "collapsed": false,
     "input": [
      "n_spikes_in_new = np.zeros(params['n_exc_mpn'])\n",
      "n_spikes_in_old = np.zeros(params['n_exc_mpn'])\n",
      "for i_ in xrange(params['n_exc_mpn']):\n",
      "    n_spikes_in_old[i_] = len(stim_old[i_])\n",
      "    n_spikes_in_new[i_] = len(stim_new[i_])\n",
      "print 'NEW vs OLD'\n",
      "print 'Total number input spikes:\\n'\n",
      "print 'sum: %.2f\\t%2f' % (n_spikes_in_new.sum(), n_spikes_in_old.sum())\n",
      "print 'std: %.2f\\t%2f' % (n_spikes_in_new.std(), n_spikes_in_old.std())\n",
      "print 'max: %.2f\\t%2f' % (n_spikes_in_new.max(), n_spikes_in_old.max())\n",
      "print 'n_in: %d\\t%d' % (n_spikes_in_new.nonzero()[0].size, n_spikes_in_old.nonzero()[0].size)\n",
      "print 'frac: %.2f\\t%.2f' % (100. * n_spikes_in_new.nonzero()[0].size / float(params['n_exc_mpn']), \\\n",
      "                            100. * n_spikes_in_old.nonzero()[0].size / params['n_exc_mpn'])\n",
      "print '\\nRFS '\n",
      "print 'NEW vs OLD'\n",
      "print 'min: %.3e\\t%.3e' % (rfs_old[:, 0].min(), rfs_new[:, 0].min())\n",
      "print 'max: %.4f\\t%.4f' % (rfs_old[:, 0].max(), rfs_new[:, 0].max())\n",
      "print 'mean: %.4f\\t%.4f' % (rfs_old[:, 0].mean(), rfs_new[:, 0].mean())\n",
      "#print 'median max:', np.median(n_spikes_in_new), n_spikes_in_new.max()"
     ],
     "language": "python",
     "metadata": {},
     "outputs": [
      {
       "output_type": "stream",
       "stream": "stdout",
       "text": [
        "NEW vs OLD\n",
        "Total number input spikes:\n",
        "\n",
        "sum: 1618.00\t205.000000\n",
        "std: 3.84\t1.564633\n",
        "max: 58.00\t41.000000\n",
        "n_in: 168\t13\n",
        "frac: 6.72\t0.52\n",
        "\n",
        "RFS \n",
        "NEW vs OLD\n",
        "min: 8.000e-04\t8.000e-04\n",
        "max: 0.0053\t0.0053\n",
        "mean: 0.0018\t0.0018\n"
       ]
      }
     ],
     "prompt_number": 8
    },
    {
     "cell_type": "code",
     "collapsed": false,
     "input": [
      "fig = pylab.figure()\n",
      "ax1 = fig.add_subplot(211)\n",
      "ax2 = fig.add_subplot(212)\n",
      "ax1.bar(range(params['n_exc_mpn']), n_spikes_in_old, width=1)\n",
      "ax2.bar(range(params['n_exc_mpn']), n_spikes_in_new, width=1)\n",
      "ax1.set_title('OLD')\n",
      "ax2.set_title('NEW')\n",
      "ax1.set_xlim((0, params['n_exc_mpn']))\n",
      "ax2.set_xlim((0, params['n_exc_mpn']))"
     ],
     "language": "python",
     "metadata": {},
     "outputs": [
      {
       "metadata": {},
       "output_type": "pyout",
       "prompt_number": 9,
       "text": [
        "(0, 2500)"
       ]
      },
      {
       "metadata": {},
       "output_type": "display_data",
       "png": "[encoded data removed]",
       "text": [
        "<matplotlib.figure.Figure at 0x7f2e957f6a10>"
       ]
      }
     ],
     "prompt_number": 9
    },
    {
     "cell_type": "code",
     "collapsed": false,
     "input": [],
     "language": "python",
     "metadata": {},
     "outputs": []
    }
   ],
   "metadata": {}
  }
 ]
}