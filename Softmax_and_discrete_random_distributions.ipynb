{
 "metadata": {
  "name": ""
 },
 "nbformat": 3,
 "nbformat_minor": 0,
 "worksheets": [
  {
   "cells": [
    {
     "cell_type": "code",
     "collapsed": false,
     "input": [
      "import numpy as np"
     ],
     "language": "python",
     "metadata": {},
     "outputs": [],
     "prompt_number": 1
    },
    {
     "cell_type": "code",
     "collapsed": false,
     "input": [
      "n_actions = 10\n",
      "certainty = np.zeros(n_actions)"
     ],
     "language": "python",
     "metadata": {},
     "outputs": [],
     "prompt_number": 13
    },
    {
     "cell_type": "code",
     "collapsed": false,
     "input": [
      "def softmax(a, T=1):\n",
      "    a_new = np.zeros(a.size)\n",
      "    exp_sum = np.sum(np.exp(T * a))\n",
      "    for i_ in xrange(a.size):\n",
      "        a_new[i_] = np.exp(T * a[i_]) / exp_sum\n",
      "    return a_new"
     ],
     "language": "python",
     "metadata": {},
     "outputs": [],
     "prompt_number": 14
    },
    {
     "cell_type": "code",
     "collapsed": false,
     "input": [
      "certainty[0] = 0\n",
      "certainty[1] = 1\n",
      "certainty[2] = 0\n",
      "certainty[3] = 0\n",
      "certainty[4] = 0\n",
      "certainty[5] = 1\n",
      "certainty[6] = 0\n",
      "certainty[7] = 0\n",
      "certainty[8] = 1\n",
      "certainty[9] = 0\n",
      "\n",
      "temp = 1.0\n",
      "c = softmax(certainty, T=temp)\n",
      "fig = pylab.figure()\n",
      "ax1 = fig.add_subplot(211)\n",
      "ax2 = fig.add_subplot(212)\n",
      "ax1.bar(np.arange(c.size), c)\n",
      "ax2.bar(np.arange(certainty.size), certainty)\n",
      "ax1.set_xlim(0, c.size)\n",
      "ax2.set_xlim(0, certainty.size)\n",
      "ax1.set_ylabel('Softmax output')\n",
      "ax1.set_title('Action selection probability')\n",
      "ax2.set_ylabel('Softmax_input')"
     ],
     "language": "python",
     "metadata": {},
     "outputs": [
      {
       "metadata": {},
       "output_type": "pyout",
       "prompt_number": 41,
       "text": [
        "<matplotlib.text.Text at 0x7f9f5dc6e390>"
       ]
      },
      {
       "metadata": {},
       "output_type": "display_data",
       "png": "[encoded data removed]",
       "text": [
        "<matplotlib.figure.Figure at 0x7f9f5ddd43d0>"
       ]
      }
     ],
     "prompt_number": 41
    },
    {
     "cell_type": "code",
     "collapsed": false,
     "input": [
      "from scipy import stats"
     ],
     "language": "python",
     "metadata": {},
     "outputs": [],
     "prompt_number": 35
    },
    {
     "cell_type": "code",
     "collapsed": false,
     "input": [
      "xk = np.arange(n_actions)\n",
      "pk = softmax(certainty, T=temp)\n",
      "custm = stats.rv_discrete(name='custm', values=(xk, pk))"
     ],
     "language": "python",
     "metadata": {},
     "outputs": [],
     "prompt_number": 31
    },
    {
     "cell_type": "code",
     "collapsed": false,
     "input": [
      "R = custm.rvs(size=10000)\n",
      "cnt, bins = np.histogram(R, bins=10, range=(0, 10))\n",
      "print R"
     ],
     "language": "python",
     "metadata": {},
     "outputs": [
      {
       "output_type": "stream",
       "stream": "stdout",
       "text": [
        "[1 7 7 ..., 8 2 2]\n"
       ]
      }
     ],
     "prompt_number": 39
    },
    {
     "cell_type": "code",
     "collapsed": false,
     "input": [
      "fig, (ax1, ax2) = pylab.subplots(nrows=2)\n",
      "ax1.bar(np.arange(pk.size), pk)\n",
      "ax2.bar(bins[:-1], cnt)"
     ],
     "language": "python",
     "metadata": {},
     "outputs": [
      {
       "metadata": {},
       "output_type": "pyout",
       "prompt_number": 40,
       "text": [
        "<Container object of 10 artists>"
       ]
      },
      {
       "metadata": {},
       "output_type": "display_data",
       "png": "[encoded data removed]",
       "text": [
        "<matplotlib.figure.Figure at 0x7f9f5e1b9bd0>"
       ]
      }
     ],
     "prompt_number": 40
    },
    {
     "cell_type": "code",
     "collapsed": false,
     "input": [],
     "language": "python",
     "metadata": {},
     "outputs": [],
     "prompt_number": 65
    },
    {
     "cell_type": "code",
     "collapsed": false,
     "input": [],
     "language": "python",
     "metadata": {},
     "outputs": []
    }
   ],
   "metadata": {}
  }
 ]
}