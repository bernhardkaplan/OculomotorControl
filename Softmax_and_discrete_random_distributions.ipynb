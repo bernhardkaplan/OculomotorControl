{
 "metadata": {
  "name": ""
 },
 "nbformat": 3,
 "nbformat_minor": 0,
 "worksheets": [
  {
   "cells": [
    {
     "cell_type": "code",
     "collapsed": false,
     "input": [
      "import numpy as np"
     ],
     "language": "python",
     "metadata": {},
     "outputs": [],
     "prompt_number": 78
    },
    {
     "cell_type": "code",
     "collapsed": false,
     "input": [
      "n_actions = 10\n",
      "certainty = np.zeros(n_actions)"
     ],
     "language": "python",
     "metadata": {},
     "outputs": [],
     "prompt_number": 79
    },
    {
     "cell_type": "code",
     "collapsed": false,
     "input": [
      "def softmax(a, T=1):\n",
      "    a_new = np.zeros(a.size)\n",
      "    exp_sum = np.sum(np.exp(T * a))\n",
      "    for i_ in xrange(a.size):\n",
      "        a_new[i_] = np.exp(T * a[i_]) / exp_sum\n",
      "    return a_new"
     ],
     "language": "python",
     "metadata": {},
     "outputs": [],
     "prompt_number": 87
    },
    {
     "cell_type": "code",
     "collapsed": false,
     "input": [
      "certainty[3] = 0\n",
      "certainty[1] = 2\n",
      "certainty[7] = 1\n",
      "temp = 10.\n",
      "c = softmax(certainty, T=temp)\n",
      "fig = pylab.figure()\n",
      "ax1 = fig.add_subplot(211)\n",
      "ax2 = fig.add_subplot(212)\n",
      "ax1.bar(np.arange(c.size), c)\n",
      "ax2.bar(np.arange(certainty.size), certainty)\n",
      "ax1.set_xlim(0, c.size)\n",
      "ax2.set_xlim(0, certainty.size)\n",
      "ax1.set_ylabel('Softmax output')\n",
      "ax1.set_title('Action selection probability')\n",
      "ax2.set_ylabel('Softmax_input')"
     ],
     "language": "python",
     "metadata": {},
     "outputs": [
      {
       "metadata": {},
       "output_type": "pyout",
       "prompt_number": 108,
       "text": [
        "<matplotlib.text.Text at 0x7fe123263490>"
       ]
      },
      {
       "metadata": {},
       "output_type": "display_data",
       "png": "[encoded data removed]",
       "text": [
        "<matplotlib.figure.Figure at 0x7fe1232fe6d0>"
       ]
      }
     ],
     "prompt_number": 108
    },
    {
     "cell_type": "code",
     "collapsed": false,
     "input": [
      "from scipy import stats"
     ],
     "language": "python",
     "metadata": {},
     "outputs": [],
     "prompt_number": 62
    },
    {
     "cell_type": "code",
     "collapsed": false,
     "input": [
      "xk = np.arange(n_actions)\n",
      "pk = softmax(certainty, T=1.)\n",
      "custm = stats.rv_discrete(name='custm', values=(xk, pk))"
     ],
     "language": "python",
     "metadata": {},
     "outputs": [],
     "prompt_number": 75
    },
    {
     "cell_type": "code",
     "collapsed": false,
     "input": [
      "R = custm.rvs(size=10000)\n",
      "cnt, bins = np.histogram(R, bins=10, range=(0, 10))"
     ],
     "language": "python",
     "metadata": {},
     "outputs": [],
     "prompt_number": 76
    },
    {
     "cell_type": "code",
     "collapsed": false,
     "input": [
      "fig, (ax1, ax2) = pylab.subplots(nrows=2)\n",
      "ax1.bar(np.arange(pk.size), pk)\n",
      "ax2.bar(bins[:-1], cnt)"
     ],
     "language": "python",
     "metadata": {},
     "outputs": [
      {
       "metadata": {},
       "output_type": "pyout",
       "prompt_number": 77,
       "text": [
        "<Container object of 10 artists>"
       ]
      },
      {
       "metadata": {},
       "output_type": "display_data",
       "png": "[encoded data removed]",
       "text": [
        "<matplotlib.figure.Figure at 0x7fe125899d50>"
       ]
      }
     ],
     "prompt_number": 77
    },
    {
     "cell_type": "code",
     "collapsed": false,
     "input": [],
     "language": "python",
     "metadata": {},
     "outputs": [],
     "prompt_number": 65
    },
    {
     "cell_type": "code",
     "collapsed": false,
     "input": [],
     "language": "python",
     "metadata": {},
     "outputs": []
    }
   ],
   "metadata": {}
  }
 ]
}